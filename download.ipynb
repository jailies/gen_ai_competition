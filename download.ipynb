{
 "cells": [
  {
   "cell_type": "code",
   "execution_count": 3,
   "metadata": {},
   "outputs": [
    {
     "name": "stdout",
     "output_type": "stream",
     "text": [
      "Requirement already satisfied: progressbar in /Users/jeonghwan/opt/anaconda3/envs/ybenv/lib/python3.9/site-packages (2.5)\n"
     ]
    },
    {
     "name": "stderr",
     "output_type": "stream",
     "text": [
      "100% |########################################################################|\n",
      "  0% |                                                                        |\r"
     ]
    },
    {
     "name": "stdout",
     "output_type": "stream",
     "text": [
      "time :  03:08\n"
     ]
    },
    {
     "name": "stderr",
     "output_type": "stream",
     "text": [
      "100% |########################################################################|\r"
     ]
    },
    {
     "name": "stdout",
     "output_type": "stream",
     "text": [
      "time :  07:30\n"
     ]
    },
    {
     "name": "stderr",
     "output_type": "stream",
     "text": [
      "\n"
     ]
    }
   ],
   "source": [
    "! pip install progressbar # .py 파일로 실행 시 terminal에서 설치\n",
    "\n",
    "import urllib\n",
    "import progressbar\n",
    "import time\n",
    "\n",
    "pbar = None\n",
    "\n",
    "def show_progress(block_num, block_size, total_size):\n",
    "    global pbar\n",
    "    if pbar is None:\n",
    "        pbar = progressbar.ProgressBar(maxval=total_size)\n",
    "        pbar.start()\n",
    "\n",
    "    downloaded = block_num * block_size\n",
    "    if downloaded < total_size:\n",
    "        pbar.update(downloaded)\n",
    "    else:\n",
    "        pbar.finish()\n",
    "        pbar = None\n",
    "\n",
    "# 학습 데이터 다운로드\n",
    "\n",
    "start = time.time()\n",
    "url = 'https://share.aiconnect.kr/fake_or_real/trainFile/train.zip'\n",
    "urllib.request.urlretrieve(url, 'train.zip', show_progress)\n",
    "print('time : ', time.strftime('%M:%S', time.gmtime(time.time() - start))) \n",
    "\n",
    "# 평가용 데이터 다운로드\n",
    "\n",
    "start = time.time()\n",
    "url = 'https://share.aiconnect.kr/fake_or_real/testFile/test.zip'\n",
    "urllib.request.urlretrieve(url, 'test.zip', show_progress)\n",
    "print('time : ', time.strftime('%M:%S', time.gmtime(time.time() - start))) "
   ]
  }
 ],
 "metadata": {
  "kernelspec": {
   "display_name": "ybenv",
   "language": "python",
   "name": "ybenv"
  },
  "language_info": {
   "codemirror_mode": {
    "name": "ipython",
    "version": 3
   },
   "file_extension": ".py",
   "mimetype": "text/x-python",
   "name": "python",
   "nbconvert_exporter": "python",
   "pygments_lexer": "ipython3",
   "version": "3.9.15"
  },
  "orig_nbformat": 4
 },
 "nbformat": 4,
 "nbformat_minor": 2
}
